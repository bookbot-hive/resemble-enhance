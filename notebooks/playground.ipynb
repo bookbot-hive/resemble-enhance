{
 "cells": [
  {
   "cell_type": "code",
   "execution_count": 6,
   "id": "67ccdcf0",
   "metadata": {},
   "outputs": [
    {
     "name": "stdout",
     "output_type": "stream",
     "text": [
      "❌ soundfile backend failed:\n",
      "   Error type: LibsndfileError\n",
      "   Error message: Error opening '../data/bg/Set 1/Act Three - Audionautix  Royalty Free Music - No Copyright Music  YouTube Music.wav': Format not recognised.\n",
      "❌ sox backend failed:\n",
      "   Error type: RuntimeError\n",
      "   Error message: Error loading audio file: failed to open file ../data/bg/Set 1/Act Three - Audionautix  Royalty Free Music - No Copyright Music  YouTube Music.wav\n",
      "❌ All backends failed to load the audio file\n"
     ]
    }
   ],
   "source": [
    "import torchaudio\n",
    "backends = ['soundfile',  'sox']\n",
    "audio_path = \"../data/bg/Set 1/Act Three - Audionautix  Royalty Free Music - No Copyright Music  YouTube Music.wav\"\n",
    "for backend in backends:\n",
    "    try:\n",
    "        wav, sr = torchaudio.load(audio_path, backend=backend)\n",
    "        print(f\"✅ File loaded successfully with {backend} backend\")\n",
    "        print(f\"   Sample rate: {sr}\")\n",
    "        print(f\"   Audio shape: {wav.shape}\")\n",
    "        break\n",
    "    except Exception as e:\n",
    "        print(f\"❌ {backend} backend failed:\")\n",
    "        print(f\"   Error type: {type(e).__name__}\")\n",
    "        print(f\"   Error message: {e}\")\n",
    "        continue\n",
    "else:\n",
    "    print(\"❌ All backends failed to load the audio file\")"
   ]
  }
 ],
 "metadata": {
  "kernelspec": {
   "display_name": "enhance",
   "language": "python",
   "name": "python3"
  },
  "language_info": {
   "codemirror_mode": {
    "name": "ipython",
    "version": 3
   },
   "file_extension": ".py",
   "mimetype": "text/x-python",
   "name": "python",
   "nbconvert_exporter": "python",
   "version": "3.10.0"
  }
 },
 "nbformat": 4,
 "nbformat_minor": 5
}
